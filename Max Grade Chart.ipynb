{
 "cells": [
  {
   "cell_type": "markdown",
   "metadata": {},
   "source": [
    "1. Load a tick list\n",
    "2. For each climb tick compare its grade to the previous hardest climb for that month\n",
    "3. Generate a list of months and their corresponding hardest grades by doing above"
   ]
  },
  {
   "cell_type": "markdown",
   "metadata": {},
   "source": [
    "ryan's tick page : \n",
    "https://www.mountainproject.com/user/200200801/ryan-westby/ticks"
   ]
  },
  {
   "cell_type": "code",
   "execution_count": 61,
   "metadata": {},
   "outputs": [],
   "source": [
    "import sqlite3 as sl\n",
    "import requests\n",
    "from bs4 import BeautifulSoup\n",
    "import json\n",
    "import re\n",
    "import numpy as np\n",
    "from datetime import datetime\n",
    "\n",
    "con = sl.connect('my-test.db')"
   ]
  },
  {
   "cell_type": "code",
   "execution_count": 95,
   "metadata": {},
   "outputs": [
    {
     "data": {
      "text/html": [
       "<div>\n",
       "<style scoped>\n",
       "    .dataframe tbody tr th:only-of-type {\n",
       "        vertical-align: middle;\n",
       "    }\n",
       "\n",
       "    .dataframe tbody tr th {\n",
       "        vertical-align: top;\n",
       "    }\n",
       "\n",
       "    .dataframe thead th {\n",
       "        text-align: right;\n",
       "    }\n",
       "</style>\n",
       "<table border=\"1\" class=\"dataframe\">\n",
       "  <thead>\n",
       "    <tr style=\"text-align: right;\">\n",
       "      <th></th>\n",
       "      <th>url</th>\n",
       "      <th>grade</th>\n",
       "      <th>date</th>\n",
       "    </tr>\n",
       "  </thead>\n",
       "  <tbody>\n",
       "    <tr>\n",
       "      <th>0</th>\n",
       "      <td>https://www.mountainproject.com/route/10574098...</td>\n",
       "      <td>5.8</td>\n",
       "      <td>Mar 9, 2021</td>\n",
       "    </tr>\n",
       "    <tr>\n",
       "      <th>1</th>\n",
       "      <td>https://www.mountainproject.com/route/10580357...</td>\n",
       "      <td>5.11a</td>\n",
       "      <td>Mar 9, 2021</td>\n",
       "    </tr>\n",
       "    <tr>\n",
       "      <th>2</th>\n",
       "      <td>https://www.mountainproject.com/route/10939993...</td>\n",
       "      <td>5.12c</td>\n",
       "      <td>Dec 5, 2020</td>\n",
       "    </tr>\n",
       "    <tr>\n",
       "      <th>3</th>\n",
       "      <td>https://www.mountainproject.com/route/11118300...</td>\n",
       "      <td>5.11c</td>\n",
       "      <td>Nov 28, 2020</td>\n",
       "    </tr>\n",
       "    <tr>\n",
       "      <th>4</th>\n",
       "      <td>https://www.mountainproject.com/route/11194545...</td>\n",
       "      <td>5.10b</td>\n",
       "      <td>Oct 19, 2020</td>\n",
       "    </tr>\n",
       "    <tr>\n",
       "      <th>5</th>\n",
       "      <td>https://www.mountainproject.com/route/10588924...</td>\n",
       "      <td>5.10a/b</td>\n",
       "      <td>Oct 17, 2020</td>\n",
       "    </tr>\n",
       "    <tr>\n",
       "      <th>6</th>\n",
       "      <td>https://www.mountainproject.com/route/10579178...</td>\n",
       "      <td>5.10a</td>\n",
       "      <td>Oct 17, 2020</td>\n",
       "    </tr>\n",
       "    <tr>\n",
       "      <th>7</th>\n",
       "      <td>https://www.mountainproject.com/route/10590181...</td>\n",
       "      <td>5.9</td>\n",
       "      <td>Oct 16, 2020</td>\n",
       "    </tr>\n",
       "    <tr>\n",
       "      <th>8</th>\n",
       "      <td>https://www.mountainproject.com/route/10956504...</td>\n",
       "      <td>5.10a/b</td>\n",
       "      <td>Oct 16, 2020</td>\n",
       "    </tr>\n",
       "  </tbody>\n",
       "</table>\n",
       "</div>"
      ],
      "text/plain": [
       "                                                 url    grade          date\n",
       "0  https://www.mountainproject.com/route/10574098...      5.8   Mar 9, 2021\n",
       "1  https://www.mountainproject.com/route/10580357...    5.11a   Mar 9, 2021\n",
       "2  https://www.mountainproject.com/route/10939993...    5.12c   Dec 5, 2020\n",
       "3  https://www.mountainproject.com/route/11118300...    5.11c  Nov 28, 2020\n",
       "4  https://www.mountainproject.com/route/11194545...    5.10b  Oct 19, 2020\n",
       "5  https://www.mountainproject.com/route/10588924...  5.10a/b  Oct 17, 2020\n",
       "6  https://www.mountainproject.com/route/10579178...    5.10a  Oct 17, 2020\n",
       "7  https://www.mountainproject.com/route/10590181...      5.9  Oct 16, 2020\n",
       "8  https://www.mountainproject.com/route/10956504...  5.10a/b  Oct 16, 2020"
      ]
     },
     "execution_count": 95,
     "metadata": {},
     "output_type": "execute_result"
    }
   ],
   "source": [
    "import pandas as pd\n",
    "with con:\n",
    "    df = pd.read_sql_query('SELECT ticks.url, grade, date FROM ticks INNER JOIN routes ON routes.url = ticks.url where ticks.rowid < 10;', con)\n",
    "    \n",
    "df.loc[df['grade'] == 5.1, 'grade'] = '5.10b/c'\n",
    "df.loc[df['grade'] == 5.11, 'grade'] = '5.11b/c'\n",
    "df.loc[df['grade'] == 5.12, 'grade'] = '5.12b/c'\n",
    "\n",
    "df"
   ]
  },
  {
   "cell_type": "code",
   "execution_count": 94,
   "metadata": {},
   "outputs": [
    {
     "data": {
      "text/plain": [
       "{'2021-03': 15.0, '2020-12': 21.0, '2020-11': 17.0, '2020-10': 11.0}"
      ]
     },
     "execution_count": 94,
     "metadata": {},
     "output_type": "execute_result"
    }
   ],
   "source": [
    "# input a grade and a previous PBest, compare\n",
    "# return true if new grade is higher, false if not\n",
    "\n",
    "#def compareGrades(grade, highgrade):\n",
    "#    if (len(grade) == 3 and len(highgrade) == 3) or (len(grade) > 3 and len(highgrade) > 3):\n",
    "#        return grade > highgrade\n",
    "#    if len(grade) == 3 and len(highgrade) > 3:\n",
    "#        return False\n",
    "#    if len(grade) > 3 and len(highgrade) == 3:\n",
    "#        return True\n",
    "\n",
    "\n",
    "# add a new column to master df, monthyear that's a formatted version of date, gradekey\n",
    "\n",
    "df.at[0,'monthyear'] = ''\n",
    "df.at[0,'gradekey'] = 0.0\n",
    "for index, row in df.iterrows(): # for every tick in the ticklist\n",
    "    string = datetime.strptime(row.date, '%b %d, %Y')\n",
    "    df.at[index,'monthyear'] = string.strftime('%Y-%m') # add monthyear value\n",
    "    month = row.monthyear\n",
    "\n",
    "    if str(row.grade) in gradeToNum.keys(): # also, for every tick, if the grade is in the translator\n",
    "        df.at[index, 'gradekey'] = gradeToNum[str(row.grade)] # insert the new gradekey in the column\n",
    "    else:\n",
    "        df.at[index,'gradekey'] = 0 # if it's not in the translator it's probably an iceclimb or something, skip it\n",
    "    \n",
    "    \n",
    "    \n",
    "    \n",
    "#the goal is to make a dictionary of monthly PBs\n",
    "def monthlyPBs(df):\n",
    "    monthlyPBs = {} # monhigh is a list of months and monthly PB\n",
    "    for index, row in df.iterrows(): # for every climb in the df\n",
    "        month = row.monthyear\n",
    "        grade = row.gradekey\n",
    "        \n",
    "        if month not in monthlyPBs.keys(): # if it's the first climb of the month\n",
    "            monthlyPBs[month] = grade # set the high of the month to the climb grade\n",
    "        else: # if it's not the first\n",
    "            highgrade = monthlyPBs[month] # get the current PB of the month to compare\n",
    "            if grade > highgrade: # if the current PB is higher\n",
    "                monthlyPBs[month] = grade # set a new current PB \n",
    "\n",
    "        if str(row.grade) in gradeToNum.keys():\n",
    "            df.at[index, 'gradekey'] = gradeToNum[str(row.grade)]\n",
    "        else:\n",
    "            df.at[index,'gradekey'] = 0.0\n",
    "    return monthlyPBs\n",
    "\n",
    "monthlyPBs = monthlyPBs(df)\n",
    "monthlyPBs"
   ]
  },
  {
   "cell_type": "code",
   "execution_count": 101,
   "metadata": {},
   "outputs": [
    {
     "name": "stdout",
     "output_type": "stream",
     "text": [
      "['2020-10', '2020-11', '2020-12', '2021-01', '2021-02', '2021-03']\n"
     ]
    }
   ],
   "source": [
    "# required for getting datefill\n",
    "\n",
    "highlist = list(monthlyPBs.items())\n",
    "\n",
    "def Sort_Tuple(tup):  \n",
    "    tup.sort(key = lambda x: x[0])  \n",
    "    return tup  \n",
    "\n",
    "highlist = Sort_Tuple(highlist)\n",
    "\n",
    "datefill = pd.date_range(highlist[0][0],highlist[-1][0], freq='MS').strftime(\"%Y-%m\").tolist()\n",
    "print(datefill)"
   ]
  },
  {
   "cell_type": "code",
   "execution_count": 97,
   "metadata": {},
   "outputs": [
    {
     "name": "stdout",
     "output_type": "stream",
     "text": [
      "['2020-10', '2020-11', '2020-12', '2021-01', '2021-02', '2021-03']\n",
      "2020-10\n",
      "2020-11\n",
      "2020-12\n",
      "2021-01\n",
      "2021-02\n",
      "2021-03\n",
      "[10.0, 17.0, 21.0, 21.0, 21.0, 15.0]\n"
     ]
    }
   ],
   "source": [
    "def recentHighs(gradeDict):\n",
    "    tickedMonths = list(gradeDict.keys())\n",
    "    list.sort(tickedMonths)\n",
    "    \n",
    "    lastGrade = ''\n",
    "    recentGradeList = []\n",
    "    \n",
    "    # for month in datefill, check if the month is in the tickedMonths list \n",
    "    # if it is, get the grade \n",
    "    # append it to the list, upgrade lastGrade\n",
    "    # if it isn't in tickedMonths, use lastGrade\n",
    "    \n",
    "    for month in datefill: \n",
    "        if month in tickedMonths:\n",
    "            recentGradeList.append(gradeDict[month])\n",
    "            lastGrade = gradeDict[month]\n",
    "        else:\n",
    "            recentGradeList.append(lastGrade)\n",
    "    \n",
    "    return recentGradeList\n",
    "    \n",
    "recentGradeList = recentHighs(monhigh)\n",
    "\n",
    "print(recentGradeList)    "
   ]
  },
  {
   "cell_type": "code",
   "execution_count": 100,
   "metadata": {
    "scrolled": true
   },
   "outputs": [
    {
     "name": "stdout",
     "output_type": "stream",
     "text": [
      "['2020-10', '2020-11', '2020-12', '2021-01', '2021-02', '2021-03']\n"
     ]
    },
    {
     "data": {
      "text/plain": [
       "[10.0, 17.0, 21.0, 21.0, 21.0, 21.0]"
      ]
     },
     "execution_count": 100,
     "metadata": {},
     "output_type": "execute_result"
    }
   ],
   "source": [
    "# this function finds a list of incrementing grades for whatever was the highest at that point\n",
    "\n",
    "datefill = pd.date_range(highlist[0][0],highlist[-1][0], freq='MS').strftime(\"%Y-%m\").tolist()\n",
    "print(datefill)\n",
    "highGradeList = []\n",
    "\n",
    "# check if there is a grade associated for every month \n",
    "# check if that grade is higher than the previous high grade\n",
    "# if it is, append that grade and set new highest grade to that\n",
    "# if not, append the previous high grade and continue\n",
    "\n",
    "def highGrade(gradeDict):\n",
    "    tickedMonths = list(gradeDict.keys())\n",
    "    list.sort(tickedMonths)\n",
    "    \n",
    "    highGrade = 0.0\n",
    "    for month in datefill: # for every month\n",
    "        if month in tickedMonths: # check if there is a climbing grade in the ticked maxes\n",
    "            grade = gradeDict[month]\n",
    "            if grade > highGrade:\n",
    "                highGrade = grade\n",
    "                highGradeList.append(highGrade) # add it to the list\n",
    "            else:\n",
    "                highGradeList.append(highGrade)\n",
    "        else:\n",
    "            highGradeList.append(highGrade)\n",
    "\n",
    "highGrade(monhigh)\n",
    "\n",
    "highGradeList"
   ]
  },
  {
   "cell_type": "markdown",
   "metadata": {},
   "source": [
    "what's next? you have a list of months, and a list of grades \n",
    "get the plot up\n",
    "add a second plot\n",
    "change the months to the time module \n"
   ]
  },
  {
   "cell_type": "markdown",
   "metadata": {},
   "source": [
    "but first we need a function that translates grades from ordinal data to something js can understand like count scale data\n",
    "\n",
    "when does it make sense to do the translating ?? in the python phase ? does it matter? it's kind of the same no matter where you do it. you'll have to translate back at some point. the crux is that you want to translate the least amount of times. this means doing it in the pandas df as soon as you get it, then back into human grades in the plot\n",
    "\n",
    "\n",
    "1 create a dictionary with integers corresponding to all the grades \n",
    "2 iterate over all the grades in the df and translate them\n"
   ]
  },
  {
   "cell_type": "code",
   "execution_count": 52,
   "metadata": {
    "collapsed": true
   },
   "outputs": [
    {
     "data": {
      "text/plain": [
       "{('5.0', 'easy', 'Easy'): 0,\n",
       " '5.1': 1,\n",
       " '5.2': 2,\n",
       " '5.3': 3,\n",
       " '5.4': 4,\n",
       " '5.5': 5,\n",
       " '5.6': 6,\n",
       " '5.7-': 7,\n",
       " '5.7': 8,\n",
       " '5.7+': 9,\n",
       " '5.8-': 10,\n",
       " '5.8': 11,\n",
       " '5.8+': 12,\n",
       " '5.9-': 13,\n",
       " '5.9': 14,\n",
       " '5.9+': 15,\n",
       " ('5.10a', '5.10-', '5.10a/b'): 16,\n",
       " '5.10b': 17,\n",
       " ('5.10b/c', '5.10'): 18,\n",
       " '5.10c': 19,\n",
       " ('5.10d', '5.10+', '5.10c/d'): 20,\n",
       " ('5.12a', '5.12-', '5.12a/b'): 21,\n",
       " '5.12b': 22,\n",
       " ('5.12b/c', '5.12'): 23,\n",
       " '5.12c': 24,\n",
       " ('5.12d', '5.12+', '5.12c/d'): 25,\n",
       " ('5.13a', '5.13-', '5.13a/b'): 26,\n",
       " '5.13b': 27,\n",
       " ('5.13b/c', '5.13'): 28,\n",
       " '5.13c': 29,\n",
       " ('5.13d', '5.13+', '5.13c/d'): 30,\n",
       " ('5.14a', '5.14-', '5.14a/b'): 31,\n",
       " '5.14b': 32,\n",
       " ('5.14b/c', '5.14'): 33,\n",
       " '5.14c': 34,\n",
       " ('5.14d', '5.14+', '5.14c/d'): 35,\n",
       " ('5.15a', '5.15-', '5.15a/b'): 36,\n",
       " '5.15b': 37,\n",
       " ('5.15b/c', '5.15'): 38,\n",
       " '5.15c': 39,\n",
       " ('5.15d', '5.15+', '5.15c/d'): 40,\n",
       " ('5.16a', '5.16-', '5.16a/b'): 41,\n",
       " '5.16b': 47,\n",
       " ('5.16b/c', '5.16'): 48,\n",
       " '5.16c': 49,\n",
       " ('5.16d', '5.16+', '5.16c/d'): 45,\n",
       " ('5.16d', '5.16+'): 50,\n",
       " ('VB', 'V-easy'): 51,\n",
       " 'V0-': 52,\n",
       " 'V0': 53,\n",
       " ('V0+', 'V0-1'): 54,\n",
       " 'V1-': 55,\n",
       " 'V1': 56,\n",
       " ('V1+', 'V1-2'): 57,\n",
       " 'V2-': 58,\n",
       " 'V2': 59,\n",
       " ('V2+', 'V2-3'): 60,\n",
       " 'V3-': 61,\n",
       " 'V3': 62,\n",
       " ('V3+', 'V3-4'): 63,\n",
       " 'V4-': 64,\n",
       " 'V4': 65,\n",
       " ('V4+', 'V4-5'): 66,\n",
       " 'V5-': 67,\n",
       " 'V5': 68,\n",
       " ('V5+', 'V5-6'): 69,\n",
       " 'V6-': 70,\n",
       " 'V6': 71,\n",
       " ('V6+', 'V6-7'): 72,\n",
       " 'V7-': 73,\n",
       " 'V7': 74,\n",
       " ('V7+', 'V7-8'): 75,\n",
       " 'V8-': 76,\n",
       " 'V8': 77,\n",
       " ('V8+', 'V8-9'): 78,\n",
       " 'V9-': 79,\n",
       " 'V9': 80,\n",
       " ('V9+', 'V9-10'): 81,\n",
       " 'V10-': 82,\n",
       " 'V10': 83,\n",
       " ('V10+', 'V10-11'): 84,\n",
       " 'V11-': 85,\n",
       " 'V11': 86,\n",
       " ('V11+', 'V11-12'): 87,\n",
       " 'V12-': 88,\n",
       " 'V12': 89,\n",
       " ('V12+', 'V12-13'): 90,\n",
       " 'V13-': 91,\n",
       " 'V13': 92,\n",
       " ('V13+', 'V13-14'): 93,\n",
       " 'V14-': 94,\n",
       " 'V14': 95,\n",
       " ('V14+', 'V14-15'): 96,\n",
       " 'V15-': 97,\n",
       " 'V15': 98,\n",
       " ('V15+', 'V15-16'): 99,\n",
       " 'V16-': 100,\n",
       " 'V16': 101,\n",
       " ('V16+', 'V16-17'): 102,\n",
       " 'V17-': 103,\n",
       " 'V17': 104,\n",
       " ('V17+', 'V17-18'): 105}"
      ]
     },
     "execution_count": 52,
     "metadata": {},
     "output_type": "execute_result"
    }
   ],
   "source": [
    "numToGrade = {\n",
    "    0: ('5.0', 'easy', 'Easy'),    1: ('5.1'),    2: ('5.2'),    3: ('5.3'),    4: ('5.4'),    5: ('5.5'),    6: ('5.6'),    7: ('5.7-'),    8: ('5.7'),    9: ('5.7+'),    10: ('5.8-'),    11: ('5.8'),    12: ('5.8+'),    13: ('5.9-'),    14: ('5.9'),    15: ('5.9+'),    16: ('5.10a', '5.10-', '5.10a/b'),    17: ('5.10b'),    18: ('5.10b/c', '5.10'),    19: ('5.10c'),    20: ('5.10d', '5.10+', '5.10c/d'),    21: ('5.11a', '5.11-', '5.11a/b'),    22: ('5.11b'),    23: ('5.11b/c', '5.11'),    24: ('5.11c'),    25: ('5.11d', '5.11+', '5.11c/d'),    21: ('5.12a', '5.12-', '5.12a/b'),    22: ('5.12b'),    23: ('5.12b/c', '5.12'),    24: ('5.12c'),    25: ('5.12d', '5.12+', '5.12c/d'),    26: ('5.13a', '5.13-', '5.13a/b'),    27: ('5.13b'),    28: ('5.13b/c', '5.13'),    29: ('5.13c'),    30: ('5.13d', '5.13+', '5.13c/d'),\n",
    "    31: ('5.14a', '5.14-', '5.14a/b'),    32: ('5.14b'),    33: ('5.14b/c', '5.14'),    34: ('5.14c'),    35: ('5.14d', '5.14+', '5.14c/d'),    36: ('5.15a', '5.15-', '5.15a/b'),    37: ('5.15b'),    38: ('5.15b/c', '5.15'),    39: ('5.15c'),    40: ('5.15d', '5.15+', '5.15c/d'),    41: ('5.16a', '5.16-', '5.16a/b'),    42: ('5.16b'),    43: ('5.16b/c', '5.16'),   44: ('5.16c'),    45: ('5.16d', '5.16+', '5.16c/d'),\n",
    "    47: ('5.16b'),    48: ('5.16b/c', '5.16'),    49: ('5.16c'),    50: ('5.16d', '5.16+'),        51: ('VB', 'V-easy'),    52: ('V0-'),    53: ('V0'),    54: ('V0+', 'V0-1'),    55: ('V1-'),    56: ('V1'),    57: ('V1+', 'V1-2'),    58: ('V2-'),\n",
    "    59: ('V2'),    60: ('V2+', 'V2-3'),    61: ('V3-'),    62: ('V3'),    63: ('V3+', 'V3-4'),    64: ('V4-'),    65: ('V4'),    66: ('V4+', 'V4-5'),    67: ('V5-'),    68: ('V5'),    69: ('V5+', 'V5-6'),    70: ('V6-'),    71: ('V6'),    72: ('V6+', 'V6-7'),\n",
    "    73: ('V7-'),    74: ('V7'),    75: ('V7+', 'V7-8'),    76: ('V8-'),    77: ('V8'),    78: ('V8+', 'V8-9'),    79: ('V9-'),    80: ('V9'),    81: ('V9+', 'V9-10'),    82: ('V10-'),    83: ('V10'),    84: ('V10+', 'V10-11'),\n",
    "    85: ('V11-'),    86: ('V11'),    87: ('V11+', 'V11-12'),    88: ('V12-'),    89: ('V12'),    90: ('V12+', 'V12-13'),    91: ('V13-'),    92: ('V13'),    93: ('V13+', 'V13-14'),    94: ('V14-'),    95: ('V14'),    96: ('V14+', 'V14-15'),\n",
    "    97: ('V15-'),    98: ('V15'),    99: ('V15+', 'V15-16'),    100: ('V16-'),    101: ('V16'),    102: ('V16+', 'V16-17'),    103: ('V17-'),    104: ('V17'),    105: ('V17+', 'V17-18')\n",
    "}\n",
    "\n",
    "gradeToNum = {y:x for x,y in numToGrade.items()}\n",
    "\n",
    "gradeToNum\n",
    "\n",
    "\n",
    "     "
   ]
  },
  {
   "cell_type": "code",
   "execution_count": 59,
   "metadata": {},
   "outputs": [],
   "source": [
    "gradeToNum = {\n",
    "    '5.0' : 0, 'easy' : 0, 'Easy' : 0, '5.1' : 1, '5.2' : 2, '5.3' :  3, '5.4' : 4,\n",
    "    '5.5' : 5, '5.6' : 6, '5.7-' : 7, '5.7' : 7, '5.7+' : 7, '5.8-' : 8, '5.8' : 8, \n",
    "    '5.8+' : 8, '5.9-' : 9, '5.9' : 9, '5.9+' : 9,'5.10a' : 10, '5.10-' : 10, \n",
    "    '5.10a/b' : 10, '5.10b' : 11, '5.10b/c' : 12, '5.10' : 12, '5.10c' : 13, \n",
    "    '5.10d' : 14, '5.10+' : 14, '5.10c/d' : 14, '5.11a' : 15, '5.11-' : 15, '5.11a/b' : 15,\n",
    "    '5.11b' : 16,'5.11b/c' : 17, '5.11' : 17, '5.11c' : 18, '5.11d' : 19, '5.11+' : 19, \n",
    "    '5.11c/d' : 19, '5.12a' : 20, '5.12-' : 20, '5.12a/b' : 20, '5.12b' : 21, '5.12b/c' : 22, \n",
    "    '5.12' : 22, '5.12c' : 23, '5.12d' : 24, '5.12+' : 24, '5.12c/d' : 24, '5.13a' : 25, \n",
    "    '5.13-' : 25, '5.13a/b': 25, '5.13b': 26, '5.13b/c': 27, '5.13': 27, '5.13c': 28, \n",
    "    '5.13d': 29, '5.13+': 29, '5.13c/d': 29, '5.14a': 30, '5.14-': 30, '5.14a/b': 30, '5.14b': 31,\n",
    "    '5.14b/c': 32, '5.14': 32, '5.14c': 33, '5.14d': 34, '5.14+': 34, '5.14c/d': 34,\n",
    "    '5.15a': 35, '5.15-': 35, '5.15a/b': 35, '5.15b': 36, '5.15b/c': 37, '5.15': 37, '5.15c': 38,\n",
    "    '5.15d': 39, '5.15+': 39, '5.15c/d': 39, '5.16a': 40, '5.16-': 40, '5.16a/b': 40, '5.16b': 41,\n",
    "    '5.16b/c': 41, '5.16': 41, '5.16c': 42\n",
    "}\n",
    "\n",
    "boulderToNum = {\n",
    "    'VB': 100, 'V-easy': 100, 'V0-': 101, 'V0':102, 'V0+': 103, 'V0-1': 103, 'V1-': 104, 'V1': 105, \n",
    "    'V1+': 106, 'V1-2':106, 'V2-':107, 'V2': 108, 'V2+': 109, 'V2-3': 110, 'V3-': 111, 'V3': 112,\n",
    "    'V3+': 113, 'V3-4': 113, 'V4-': 114, 'V4':115, 'V4+': 116, 'V4-5':116, 'V5-':117,'V5':118,\n",
    "    'V5+': 119, 'V5-6':119, 'V6-':120, 'V6': 121, 'V6+':122, 'V6-7':122,'V7-':123,'V7':124,\n",
    "    'V7+':125, 'V7-8':125, 'V8-':126, 'V8':127, 'V8+':128, 'V8-9':128, 'V9-':129, 'V9': 130,\n",
    "    'V9+':131, 'V9-10':131, 'V10-':132,'V10':133, 'V10+':134, 'V10-11':134,'V11-':135,'V11':136,\n",
    "    'V11+':137, 'V11-12':137, 'V12-':138,'V12':139, 'V12+': 140, 'V12-13': 140, 'V13-':141, \n",
    "    'V13':142, 'V13+':143, 'V13-14':143, 'V14-':144, 'V14':145, 'V14+':146, 'V14-15':146,\n",
    "    'V15-':147, 'V15':148, 'V15+':149, 'V15-16':149, 'V16-':150,'V16':151, 'V16+':152, 'V16-17':152,\n",
    "    'V17-':153, 'V17':154, 'V17+': 155, 'V17-18':156\n",
    "}"
   ]
  },
  {
   "cell_type": "code",
   "execution_count": 36,
   "metadata": {},
   "outputs": [
    {
     "data": {
      "text/plain": [
       "(240019, 2)"
      ]
     },
     "execution_count": 36,
     "metadata": {},
     "output_type": "execute_result"
    }
   ],
   "source": [
    "import pandas as pd\n",
    "with con:\n",
    "    df = pd.read_sql_query('SELECT grade, type FROM routes', con)\n",
    "    \n",
    "df.shape"
   ]
  },
  {
   "cell_type": "code",
   "execution_count": 56,
   "metadata": {},
   "outputs": [
    {
     "data": {
      "text/plain": [
       "dict_keys([('5.0', 'easy', 'Easy'), '5.1', '5.2', '5.3', '5.4', '5.5', '5.6', '5.7-', '5.7', '5.7+', '5.8-', '5.8', '5.8+', '5.9-', '5.9', '5.9+', ('5.10a', '5.10-', '5.10a/b'), '5.10b', ('5.10b/c', '5.10'), '5.10c', ('5.10d', '5.10+', '5.10c/d'), ('5.12a', '5.12-', '5.12a/b'), '5.12b', ('5.12b/c', '5.12'), '5.12c', ('5.12d', '5.12+', '5.12c/d'), ('5.13a', '5.13-', '5.13a/b'), '5.13b', ('5.13b/c', '5.13'), '5.13c', ('5.13d', '5.13+', '5.13c/d'), ('5.14a', '5.14-', '5.14a/b'), '5.14b', ('5.14b/c', '5.14'), '5.14c', ('5.14d', '5.14+', '5.14c/d'), ('5.15a', '5.15-', '5.15a/b'), '5.15b', ('5.15b/c', '5.15'), '5.15c', ('5.15d', '5.15+', '5.15c/d'), ('5.16a', '5.16-', '5.16a/b'), '5.16b', ('5.16b/c', '5.16'), '5.16c', ('5.16d', '5.16+', '5.16c/d'), ('5.16d', '5.16+'), ('VB', 'V-easy'), 'V0-', 'V0', ('V0+', 'V0-1'), 'V1-', 'V1', ('V1+', 'V1-2'), 'V2-', 'V2', ('V2+', 'V2-3'), 'V3-', 'V3', ('V3+', 'V3-4'), 'V4-', 'V4', ('V4+', 'V4-5'), 'V5-', 'V5', ('V5+', 'V5-6'), 'V6-', 'V6', ('V6+', 'V6-7'), 'V7-', 'V7', ('V7+', 'V7-8'), 'V8-', 'V8', ('V8+', 'V8-9'), 'V9-', 'V9', ('V9+', 'V9-10'), 'V10-', 'V10', ('V10+', 'V10-11'), 'V11-', 'V11', ('V11+', 'V11-12'), 'V12-', 'V12', ('V12+', 'V12-13'), 'V13-', 'V13', ('V13+', 'V13-14'), 'V14-', 'V14', ('V14+', 'V14-15'), 'V15-', 'V15', ('V15+', 'V15-16'), 'V16-', 'V16', ('V16+', 'V16-17'), 'V17-', 'V17', ('V17+', 'V17-18')])"
      ]
     },
     "execution_count": 56,
     "metadata": {},
     "output_type": "execute_result"
    }
   ],
   "source": [
    "gradeToNum.keys()"
   ]
  },
  {
   "cell_type": "code",
   "execution_count": 35,
   "metadata": {},
   "outputs": [
    {
     "data": {
      "text/plain": [
       "array([5.8, 5.11, '5.10c', 5.9, '5.10b/c', '5.10+', '5.11a', '5.10b',\n",
       "       '5.10d', 5.7, '5.10c/d', '5.12b', '5.10-', 'V3', '5.12a', 'V2',\n",
       "       '5.11d', '5.11c', '5.10a', 5.6, 5.5, '5.11b', 'WI3-4', 'C1', 5.1,\n",
       "       '5.12d', '5.11a/b', '5.9+', '5.11b/c', '5.9-', 5.4, 'WI5', 'V6-7',\n",
       "       'V11-12', '5.11-', '5.7+', '5.8-', '5.12c', '5.8+', '5.13a', 'V8',\n",
       "       '5.11+', 'V4', 'Mod.', 'V0', 'V2-3', 'WI2+', 'V-easy', 'V6', 'V7',\n",
       "       'V5', '5.11c/d', 'C2+', 'M10', 'V4+', 'WI4-', 'V5-', 'V0-1', 'M7',\n",
       "       'WI2', 'V0-', 'V1-2', '5.12b/c', 'M4', 5.12, 'V5-6', 'V1', 'V6+',\n",
       "       5.0, 'V2+', 'V9', 5.2, '5.10a/b', 'V0+', 'V8-', 'V11', 'V3-',\n",
       "       '5.13c', '5.13b', 'V8-9', 'V1+', 'V1-', 'V7-8', 'A2+', 'M1',\n",
       "       'V4-5', 'V3-4', 'M6+', '5.12-', '5.14a', 'M5', '5.12a/b', 'V2-',\n",
       "       'V4-', 'WI3', '5.12c/d', 'V6-', 'M6-7', '3rd', 'A2-3', 5.3, '4th',\n",
       "       'WI7', 'V5+', '5.13d', '5.14c', 'WI4-5', 'V3+', 'A5', 'WI4',\n",
       "       '5.13+', 5.13, 'Easy', 'WI5+', 'V10', 'WI3+', 'M3+', 'WI4+', 'V13',\n",
       "       'M12', 'V7+', '5.14b', 'A0+', '5.14c/d', 'WI2-3', '5.13b/c',\n",
       "       '5.13-', '5.12+', 'M5+', 'M8-9', '5.14d', 'WI3-', 'V10+', 'M9',\n",
       "       'V8+', 'V12', 'A2', '5.13a/b', 'V10-', 'V12-13', 'AI2-3', 'WI5-6',\n",
       "       'V7-', 'WI5-', 'WI6+', 'A1', 'AI4', 'AI3', 'V9-10', 'V14',\n",
       "       '5.13c/d', 'Steep', 'C2', 'V13-14', 'M6', 'M8+', 'WI2-', '5.15-',\n",
       "       'WI7+', 'M3', 'V11+', 'V10-11', 'A3', 'M11+', 'V11-', 5.14, 'WI1',\n",
       "       'A4', 'V9-', '5.14-', 'M2', '5.14a/b', 'V9+', 'M8', 'M11', 'A3+',\n",
       "       'AI1-2', 'M14+', 'M12-', 'M6-', 'C0', 'WI6', 'M5-6', 'AI2', 'M4+',\n",
       "       'M4-', 'C3', 'A1+', '', 'M7-8', 'C1+', 'M7-', 'A2-', 'A4+', 'M10-',\n",
       "       'A0', 'M9+', '5.15a', 'AI1', 'A5+', 'WI6-7', 'X', 'V12+', 'M7+',\n",
       "       'A1-', 'WI6-', 'M12+', 'M8-', 'M9-10', 'M10+', '5.15d', 'V13-',\n",
       "       'C5+', 'M2-3', 'M3-4', '5.14b/c', 'V16-', 'C0+', 'M4-5', '5.15a/b',\n",
       "       '5.14+', 'A1-2', 'V14-15', 'AI5', 'M2+', 'V16', 'C3-', 'M13',\n",
       "       'M13+', 'C1-2', 'C3+', 'A5-', 'V15', 'M1+', 'M11-', 'M1-2',\n",
       "       '5.15c/d', 'M9-', 'PG13', '5.15b', 'AI3-4', 'V?', 'WI/AI?', 'C1-',\n",
       "       'C2-', 'C0-1', 'V12-', 'A3-', 'M10-11', 5.15, '5.15+', 'A4-',\n",
       "       'V17', 'M5-', 'AI6', 'C2-3', 'A4-5', 'V13+', 'M15-', 'A3-4', 'M3-',\n",
       "       'M13-', 'AI4-5', 'WI8'], dtype=object)"
      ]
     },
     "execution_count": 35,
     "metadata": {},
     "output_type": "execute_result"
    }
   ],
   "source": [
    "asdf=pd.unique(df.grade)\n",
    "\n",
    "asdf"
   ]
  },
  {
   "cell_type": "code",
   "execution_count": null,
   "metadata": {},
   "outputs": [],
   "source": []
  }
 ],
 "metadata": {
  "kernelspec": {
   "display_name": "Python 3",
   "language": "python",
   "name": "python3"
  },
  "language_info": {
   "codemirror_mode": {
    "name": "ipython",
    "version": 3
   },
   "file_extension": ".py",
   "mimetype": "text/x-python",
   "name": "python",
   "nbconvert_exporter": "python",
   "pygments_lexer": "ipython3",
   "version": "3.8.5"
  }
 },
 "nbformat": 4,
 "nbformat_minor": 4
}
